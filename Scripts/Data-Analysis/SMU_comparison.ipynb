{
 "cells": [
  {
   "cell_type": "code",
   "execution_count": 1,
   "metadata": {},
   "outputs": [],
   "source": [
    "import numpy as np\n",
    "import pandas as pd\n",
    "import matplotlib.pyplot as plt"
   ]
  },
  {
   "cell_type": "code",
   "execution_count": 2,
   "metadata": {},
   "outputs": [],
   "source": [
    "file = 'global_data_4_1'\n",
    "time_bins = np.arange(0,24,float(file.split('_')[-1]))\n",
    "H_bins = np.arange(90,130,float(file.split('_')[-2]))\n",
    "\n",
    "shape = len(time_bins) * len(H_bins)\n",
    "\n",
    "file_path = f'../../Output/{file}.csv'"
   ]
  },
  {
   "cell_type": "code",
   "execution_count": 2,
   "metadata": {},
   "outputs": [
    {
     "ename": "NameError",
     "evalue": "name 'file_path' is not defined",
     "output_type": "error",
     "traceback": [
      "\u001b[0;31m---------------------------------------------------------------------------\u001b[0m",
      "\u001b[0;31mNameError\u001b[0m                                 Traceback (most recent call last)",
      "Cell \u001b[0;32mIn[2], line 1\u001b[0m\n\u001b[0;32m----> 1\u001b[0m data_df \u001b[38;5;241m=\u001b[39m pd\u001b[38;5;241m.\u001b[39mread_csv(\u001b[43mfile_path\u001b[49m,low_memory\u001b[38;5;241m=\u001b[39m\u001b[38;5;28;01mFalse\u001b[39;00m)\n\u001b[1;32m      2\u001b[0m Ne_EXP \u001b[38;5;241m=\u001b[39m np\u001b[38;5;241m.\u001b[39marray(data_df[\u001b[38;5;124m'\u001b[39m\u001b[38;5;124mEXP Density\u001b[39m\u001b[38;5;124m'\u001b[39m])\u001b[38;5;241m.\u001b[39mreshape(\u001b[38;5;241m-\u001b[39m\u001b[38;5;241m1\u001b[39m,shape)\n\u001b[1;32m      3\u001b[0m dNe_EXP \u001b[38;5;241m=\u001b[39m  np\u001b[38;5;241m.\u001b[39marray(data_df[\u001b[38;5;124m'\u001b[39m\u001b[38;5;124mEXP Density Error\u001b[39m\u001b[38;5;124m'\u001b[39m])\u001b[38;5;241m.\u001b[39mreshape(\u001b[38;5;241m-\u001b[39m\u001b[38;5;241m1\u001b[39m,shape)\n",
      "\u001b[0;31mNameError\u001b[0m: name 'file_path' is not defined"
     ]
    }
   ],
   "source": [
    "data_df = pd.read_csv(file_path,low_memory=False)\n",
    "Ne_EXP = np.array(data_df['EXP Density']).reshape(-1,shape)\n",
    "dNe_EXP =  np.array(data_df['EXP Density Error']).reshape(-1,shape)\n",
    "Ne_WACCM = np.array(data_df['WACCM Density']).reshape(-1,shape)\n",
    "mag_EXP = np.array(data_df['EXP Magnitude']).reshape(-1,shape)\n",
    "mag_WACCM = np.array(data_df['WACCM Magnitude']).reshape(-1,shape)\n",
    "height = np.array(data_df['Height']).reshape(-1,shape)\n",
    "Date = np.array(data_df['Date']).reshape(-1,shape)[:,0]\n",
    "Svalbard = np.array(data_df ['Svalbard']).reshape(-1,shape)[:,0] == 1\n",
    "Tromso = np.array(data_df['Tromso']).reshape(-1,shape)[:,0] == 1\n",
    "Geomagnetic_Event = np.array(data_df['Geomagnetic Event']).reshape(-1,shape)[:,0] == 1\n",
    "Solar_Proton_Event = np.array(data_df['Solar Proton Event']).reshape(-1,shape)[:,0] == 1\n",
    "SMU_index = np.array(data_df['SMU']).reshape(-1,shape)\n",
    "dSMU_index = np.array(data_df['SMU Gradient']).reshape(-1,shape)\n",
    "\n",
    "mask, type = np.repeat(True, len(Ne_EXP)), 'all'\n",
    "mask, type = Svalbard, 'Svalbard'\n",
    "mask, type = Tromso, 'Tromso'\n",
    "mask, type = Geomagnetic_Event, 'geo'\n",
    "mask, type = Solar_Proton_Event, 'sol'\n",
    "mask, type = (~Geomagnetic_Event) * (~Solar_Proton_Event), 'quiet'\n",
    "mask, type = (Geomagnetic_Event) + (Solar_Proton_Event), 'active'\n",
    "\n",
    "Ne_EXP = Ne_EXP[mask]\n",
    "dNe_EXP = dNe_EXP[mask]\n",
    "Ne_WACCM = Ne_WACCM[mask]\n",
    "\n",
    "mag_EXP = mag_EXP[mask]\n",
    "mag_WACCM = mag_WACCM[mask]\n",
    "\n",
    "SMU_index = SMU_index[mask]\n",
    "dSMU_index = dSMU_index[mask]\n",
    "height = height[mask]\n",
    "\n",
    "Geomagnetic_Event = Geomagnetic_Event[mask]\n",
    "Solar_Proton_Event = Solar_Proton_Event[mask]\n",
    "\n",
    "zero_mask = Ne_EXP != 0\n",
    "Ne_EXP[~zero_mask] = 1\n",
    "Ne_WACCM[~zero_mask] = 1\n",
    "mag_EXP[~zero_mask] = 1\n",
    "mag_WACCM[~zero_mask] = 1\n",
    "height[~zero_mask] = 0\n",
    "\n",
    "Ne_diff = np.abs(Ne_EXP - Ne_WACCM)\n",
    "error_mask = Ne_diff < dNe_EXP\n",
    "count_error = np.sum(Ne_EXP != 1, axis=0)\n",
    "\n",
    "Ne_EXP[error_mask] = 1\n",
    "dNe_EXP[error_mask] = 0\n",
    "Ne_WACCM[error_mask] = 1\n",
    "mag_EXP[error_mask] = 1\n",
    "mag_WACCM[error_mask] = 1\n",
    "height[error_mask] = 0\n",
    "\n",
    "dNe_fac = dNe_EXP/Ne_EXP\n",
    "factor_error_mask = dNe_fac > 2\n",
    "dNe_EXP_2 = dNe_fac\n",
    "\n",
    "Ne_EXP[factor_error_mask] = 1\n",
    "dNe_EXP[factor_error_mask] = 0\n",
    "dNe_fac[factor_error_mask] = 0\n",
    "Ne_WACCM[factor_error_mask] = 1\n",
    "mag_EXP[factor_error_mask] = 1\n",
    "mag_WACCM[factor_error_mask] = 1\n",
    "height[factor_error_mask] = 0\n",
    "\n",
    "zero_mask = Ne_EXP != 0\n",
    "Ne_EXP[~zero_mask] = 1\n",
    "dNe_fac[~zero_mask] = 0\n",
    "Ne_WACCM[~zero_mask] = 1\n",
    "mag_EXP[~zero_mask] = 1\n",
    "mag_WACCM[~zero_mask] = 1\n",
    "height[~zero_mask] = 0\n",
    "\n",
    "value_mask = Ne_EXP != 1\n",
    "\n",
    "print(np.min(SMU_index), np.max(SMU_index))\n",
    "print(np.min(dSMU_index), np.max(dSMU_index))"
   ]
  },
  {
   "cell_type": "code",
   "execution_count": 3,
   "metadata": {},
   "outputs": [
    {
     "ename": "NameError",
     "evalue": "name 'height' is not defined",
     "output_type": "error",
     "traceback": [
      "\u001b[0;31m---------------------------------------------------------------------------\u001b[0m",
      "\u001b[0;31mNameError\u001b[0m                                 Traceback (most recent call last)",
      "Cell \u001b[0;32mIn[3], line 9\u001b[0m\n\u001b[1;32m      5\u001b[0m mag_diff1 \u001b[38;5;241m=\u001b[39m np\u001b[38;5;241m.\u001b[39mlinspace(\u001b[38;5;241m0\u001b[39m,\u001b[38;5;241m3\u001b[39m,\u001b[38;5;241m41\u001b[39m)\n\u001b[1;32m      6\u001b[0m mag_diff2 \u001b[38;5;241m=\u001b[39m np\u001b[38;5;241m.\u001b[39mlinspace(\u001b[38;5;241m0\u001b[39m,\u001b[38;5;241m3\u001b[39m,\u001b[38;5;241m41\u001b[39m)\n\u001b[0;32m----> 9\u001b[0m height_flat \u001b[38;5;241m=\u001b[39m \u001b[43mheight\u001b[49m[zero_mask]\n\u001b[1;32m     10\u001b[0m SMU_flat \u001b[38;5;241m=\u001b[39m SMU_index[zero_mask]\n\u001b[1;32m     11\u001b[0m dSMU_flat \u001b[38;5;241m=\u001b[39m dSMU_index[zero_mask]\n",
      "\u001b[0;31mNameError\u001b[0m: name 'height' is not defined"
     ]
    }
   ],
   "source": [
    "SMU = np.linspace(0,400,41)\n",
    "dSMU = np.linspace(-200,200,41)\n",
    "#SMU = np.linspace(0,1600,41)\n",
    "#dSMU = np.linspace(-800,800,41)\n",
    "mag_diff1 = np.linspace(0,3,41)\n",
    "mag_diff2 = np.linspace(0,3,41)\n",
    "\n",
    "\n",
    "height_flat = height[zero_mask]\n",
    "SMU_flat = SMU_index[zero_mask]\n",
    "dSMU_flat = dSMU_index[zero_mask]\n",
    "Ne_diff_flat = np.abs(mag_EXP - mag_WACCM)[zero_mask]\n",
    "\n",
    "fig, axs = plt.subplots(1, 4, figsize=(12, 3), sharex=True, sharey=True)\n",
    "\n",
    "index = 0\n",
    "for H_bin in H_bins:\n",
    "    grid = []\n",
    "    test = []\n",
    "    index2 = 0\n",
    "    h_mask = height_flat == H_bin\n",
    "    for value1 in SMU:\n",
    "        mask1 = np.abs(SMU_flat[h_mask] - value1) <= (SMU[1] - SMU[0])/2\n",
    "        for value2 in mag_diff1:\n",
    "            mask2 = np.abs(Ne_diff_flat[h_mask][mask1] - value2) <= mag_diff1[1]\n",
    "            grid.append(sum(mask2))\n",
    "            test.append(index2)\n",
    "            index2 += 1\n",
    "\n",
    "    grid = np.array(grid).reshape(len(SMU), len(mag_diff1)).T\n",
    "    X, Y = np.meshgrid(SMU, mag_diff1)\n",
    "    axs[index].pcolormesh(X, Y, grid, cmap = 'gist_heat_r')\n",
    "    axs[index].set_title(f'{int(H_bin)}-{int(H_bin+10)} km')\n",
    "    axs[index].set_xlabel(r'SMU ($nT$)')\n",
    "    index += 1\n",
    "\n",
    "\n",
    "axs[0].set_ylabel('Density Magnitude Difference')\n",
    "\n",
    "plt.tight_layout()\n",
    "plt.savefig(f'../../Output/Figures/{type}/SMU.png')\n",
    "plt.show()"
   ]
  },
  {
   "cell_type": "code",
   "execution_count": 11,
   "metadata": {},
   "outputs": [
    {
     "data": {
      "image/png": "[encoded data removed]",
      "text/plain": [
       "<Figure size 1200x300 with 4 Axes>"
      ]
     },
     "metadata": {},
     "output_type": "display_data"
    }
   ],
   "source": [
    "fig, axs = plt.subplots(1, 4, figsize=(12, 3), sharex=True, sharey=True)\n",
    "\n",
    "index = 0\n",
    "for H_bin in H_bins:\n",
    "    grid = []\n",
    "    test = []\n",
    "    index2 = 0\n",
    "    h_mask = height_flat == H_bin\n",
    "    for value1 in dSMU:\n",
    "        mask1 = np.abs(dSMU_flat[h_mask] - value1) <= (dSMU[1] - dSMU[0])/2\n",
    "        for value2 in mag_diff2:\n",
    "            mask2 = np.abs(Ne_diff_flat[h_mask][mask1] - value2) <= mag_diff2[1]\n",
    "            grid.append(sum(mask2))\n",
    "            test.append(index2)\n",
    "            index2 += 1\n",
    "\n",
    "    grid = np.array(grid).reshape(len(dSMU), len(mag_diff2)).T\n",
    "    X, Y = np.meshgrid(dSMU, mag_diff2)\n",
    "    axs[index].pcolormesh(X, Y, grid, cmap = 'gist_heat_r')\n",
    "    axs[index].set_title(f'{int(H_bin)}-{int(H_bin+10)} km')\n",
    "    axs[index].set_xlabel(r'SMU Magnitude gradient ($nT.h^{-1}$)')\n",
    "    index += 1\n",
    "\n",
    "axs[0].set_ylabel('Density Magnitude Difference')\n",
    "\n",
    "plt.tight_layout()\n",
    "plt.savefig(f'../../Output/Figures/{type}/SMU-gradient.png')\n",
    "plt.show()"
   ]
  },
  {
   "cell_type": "code",
   "execution_count": null,
   "metadata": {},
   "outputs": [],
   "source": []
  }
 ],
 "metadata": {
  "kernelspec": {
   "display_name": "Python 3",
   "language": "python",
   "name": "python3"
  },
  "language_info": {
   "codemirror_mode": {
    "name": "ipython",
    "version": 3
   },
   "file_extension": ".py",
   "mimetype": "text/x-python",
   "name": "python",
   "nbconvert_exporter": "python",
   "pygments_lexer": "ipython3",
   "version": "3.11.9"
  }
 },
 "nbformat": 4,
 "nbformat_minor": 2
}
