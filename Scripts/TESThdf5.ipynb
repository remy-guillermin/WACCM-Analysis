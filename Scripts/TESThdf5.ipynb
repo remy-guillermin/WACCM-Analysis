{
 "cells": [
  {
   "cell_type": "code",
   "execution_count": 5,
   "metadata": {},
   "outputs": [],
   "source": [
    "import numpy as np\n",
    "import matplotlib.pyplot as plt\n",
    "from datetime import datetime\n",
    "import h5py\n",
    "from matplotlib.colors import LogNorm"
   ]
  },
  {
   "cell_type": "code",
   "execution_count": 6,
   "metadata": {},
   "outputs": [],
   "source": [
    "file = '../../DataSorted/2004-01-22-GEO/MAD6400_2004-01-22_tau1_60@uhf.hdf5'\n",
    "#file = '../DataSorted/2004-11-07-SOL/EISCAT_2004-11-07_steffe_111@42m.hdf5'"
   ]
  },
  {
   "cell_type": "code",
   "execution_count": 7,
   "metadata": {},
   "outputs": [
    {
     "name": "stdout",
     "output_type": "stream",
     "text": [
      "Group: Data\n",
      "Dataset: Data/Table Layout\n",
      "Group: Metadata\n",
      "Dataset: Metadata/Data Parameters\n",
      "Dataset: Metadata/Experiment Notes\n",
      "Dataset: Metadata/Experiment Parameters\n",
      "Dataset: Metadata/Independent Spatial Parameters\n",
      "Dataset: Metadata/_record_layout\n"
     ]
    }
   ],
   "source": [
    "# Open the HDF5 file in read mode\n",
    "with h5py.File(file, 'r') as f:\n",
    "    # Function to recursively print dataset and group details\n",
    "    def print_hdf5_item_details(name, obj):\n",
    "        if isinstance(obj, h5py.Dataset):\n",
    "            print(f\"Dataset: {name}\")\n",
    "        elif isinstance(obj, h5py.Group):\n",
    "            print(f\"Group: {name}\")\n",
    "    \n",
    "    # Visit all items in the HDF5 file and print details\n",
    "    f.visititems(print_hdf5_item_details)\n"
   ]
  },
  {
   "cell_type": "code",
   "execution_count": 8,
   "metadata": {},
   "outputs": [
    {
     "name": "stdout",
     "output_type": "stream",
     "text": [
      "0 (b'YEAR', b'Year (universal time)', 0, b'y', b'Madrigal Hdf5 Prolog Parameters')\n",
      "1 (b'MONTH', b'Month (universal time)', 0, b'm', b'Madrigal Hdf5 Prolog Parameters')\n",
      "2 (b'DAY', b'Day (universal time)', 0, b'd', b'Madrigal Hdf5 Prolog Parameters')\n",
      "3 (b'HOUR', b'Hour (universal time)', 0, b'h', b'Madrigal Hdf5 Prolog Parameters')\n",
      "4 (b'MIN', b'Minute (universal time)', 0, b'm', b'Madrigal Hdf5 Prolog Parameters')\n",
      "5 (b'SEC', b'Second (universal time)', 0, b's', b'Madrigal Hdf5 Prolog Parameters')\n",
      "6 (b'RECNO', b'Logical Record Number', 0, b'N/A', b'Madrigal Hdf5 Prolog Parameters')\n",
      "7 (b'KINDAT', b'Kind of data', 0, b'N/A', b'Madrigal Hdf5 Prolog Parameters')\n",
      "8 (b'KINST', b'Instrument Code', 0, b'N/A', b'Madrigal Hdf5 Prolog Parameters')\n",
      "9 (b'UT1_UNIX', b'Unix seconds (1/1/1970) at start', 0, b's', b'Madrigal Hdf5 Prolog Parameters')\n",
      "10 (b'UT2_UNIX', b'Unix seconds (1/1/1970) at end', 0, b's', b'Madrigal Hdf5 Prolog Parameters')\n",
      "11 (b'HSA', b'Half scattering angle (bistatic system)', 0, b'deg', b'Geographic Coordinate')\n",
      "12 (b'AZM', b'Mean azimuth angle (0=geog N;90=east)', 0, b'deg', b'Geographic Coordinate')\n",
      "13 (b'ELM', b'Elevation angle (0=horizontal;90=vert)', 0, b'deg', b'Geographic Coordinate')\n",
      "14 (b'POWER', b'Peak power', 0, b'kW', b'Data Quality Parameter')\n",
      "15 (b'SYSTMP', b'System temperature', 0, b'K', b'Data Quality Parameter')\n",
      "16 (b'RANGE', b'Range', 0, b'km', b'Geographic Coordinate')\n",
      "17 (b'GDALT', b'Geodetic altitude (height)', 0, b'km', b'Geographic Coordinate')\n",
      "18 (b'NE', b'Electron density (Ne)', 0, b'm-3', b'I. S. Radar Basic Parameter')\n",
      "19 (b'TI', b'Ion temperature (Ti)', 0, b'K', b'I. S. Radar Basic Parameter')\n",
      "20 (b'TR', b'Temperature ratio (Te/Ti)', 0, b'N/A', b'I. S. Radar Basic Parameter')\n",
      "21 (b'CO', b'Ion-neutral collision frequency', 0, b's-1', b'I. S. Radar Basic Parameter')\n",
      "22 (b'VO', b'Line of sight ion velocity (pos = away)', 0, b'ms-1', b'I. S. Radar Basic Parameter')\n",
      "23 (b'PM', b'Comp - (ions with mol wt 28 to 32)/Ne', 0, b'N/A', b'I. S. Radar Basic Parameter')\n",
      "24 (b'PO+', b'Composition - [O+]/Ne', 0, b'N/A', b'I. S. Radar Basic Parameter')\n",
      "25 (b'DNE', b'Error in Electron density (Ne)', 1, b'm-3', b'I. S. Radar Basic Parameter')\n",
      "26 (b'DTI', b'Error in Ion temperature (Ti)', 1, b'K', b'I. S. Radar Basic Parameter')\n",
      "27 (b'DTR', b'Error in Temperature ratio (Te/Ti)', 1, b'N/A', b'I. S. Radar Basic Parameter')\n",
      "28 (b'DCO', b'Error in Ion-neutral collision frequency', 1, b's-1', b'I. S. Radar Basic Parameter')\n",
      "29 (b'DVO', b'Error in Line of sight ion velocity (pos = away)', 1, b'ms-1', b'I. S. Radar Basic Parameter')\n",
      "30 (b'DPM', b'Error in Comp - (ions with mol wt 28 to 32)/Ne', 1, b'N/A', b'I. S. Radar Basic Parameter')\n",
      "31 (b'DPO+', b'Error in Composition - [O+]/Ne', 1, b'N/A', b'I. S. Radar Basic Parameter')\n",
      "32 (b'GFIT', b'Goodness of fit', 0, b'N/A', b'Data Quality Parameter')\n",
      "33 (b'CHISQ', b'Reduced-chi square of fit', 0, b'N/A', b'Data Quality Parameter')\n"
     ]
    }
   ],
   "source": [
    "# Open the HDF5 file in read mode\n",
    "with h5py.File(file, 'r') as f: \n",
    "    data = f['Data']\n",
    "    metadata = f['Metadata']\n",
    "    i = 0\n",
    "    for array in metadata['Data Parameters']:\n",
    "        print(i, array)\n",
    "        i += 1"
   ]
  },
  {
   "cell_type": "code",
   "execution_count": 12,
   "metadata": {},
   "outputs": [
    {
     "name": "stdout",
     "output_type": "stream",
     "text": [
      "72\n"
     ]
    }
   ],
   "source": [
    "# Open the HDF5 file in read mode\n",
    "with h5py.File(file, 'r') as f: \n",
    "    data = f['Data']['Table Layout']\n",
    "    print(data[0][8])"
   ]
  },
  {
   "cell_type": "code",
   "execution_count": 13,
   "metadata": {},
   "outputs": [
    {
     "name": "stdout",
     "output_type": "stream",
     "text": [
      "(2004, 1, 22, 4, 0, 29, 0, 6400, 72, 1.074744e+09, 1.07474406e+09, 1.57079637, 344.67001343, 25.01000023, 1033.3973125, 126.49512482, 176.33679688, 76.53139844, 1.14358912e+09, 218.64457703, 1., 127176., 162.1399231, 0.99000001, 0.01, 1.13237312e+08, 0., 0., 0., 81.12348175, 0., 0., 0., 1.15292883)\n",
      "True\n",
      "17 (b'GDALT', b'Geodetic altitude (height)', 0, b'km', b'Geographic Coordinate')\n",
      "18 (b'NE', b'Electron density (Ne)', 0, b'm-3', b'I. S. Radar Basic Parameter')\n"
     ]
    }
   ],
   "source": [
    "# Open the HDF5 file in read mode\n",
    "with h5py.File(file, 'r') as f: \n",
    "    data = f['Data']\n",
    "    print(data['Table Layout'][:][0])\n",
    "    metadata = f['Metadata']\n",
    "    print('utime_pp' not in metadata)\n",
    "    i = 0\n",
    "    for array in metadata['Data Parameters']:\n",
    "        if array[0] == b'NE':\n",
    "            print(i, array)\n",
    "        elif array[0] == b'GDALT':\n",
    "            print(i, array)\n",
    "        elif array[0] == b'range':\n",
    "            print(i, array)\n",
    "        i += 1"
   ]
  },
  {
   "cell_type": "code",
   "execution_count": null,
   "metadata": {},
   "outputs": [],
   "source": []
  },
  {
   "cell_type": "code",
   "execution_count": null,
   "metadata": {},
   "outputs": [],
   "source": []
  }
 ],
 "metadata": {
  "kernelspec": {
   "display_name": "base",
   "language": "python",
   "name": "python3"
  },
  "language_info": {
   "codemirror_mode": {
    "name": "ipython",
    "version": 3
   },
   "file_extension": ".py",
   "mimetype": "text/x-python",
   "name": "python",
   "nbconvert_exporter": "python",
   "pygments_lexer": "ipython3",
   "version": "3.11.8"
  }
 },
 "nbformat": 4,
 "nbformat_minor": 2
}
