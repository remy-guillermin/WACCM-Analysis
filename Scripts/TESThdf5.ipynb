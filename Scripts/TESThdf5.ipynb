{
 "cells": [
  {
   "cell_type": "code",
   "execution_count": 1,
   "metadata": {},
   "outputs": [],
   "source": [
    "import numpy as np\n",
    "import matplotlib.pyplot as plt\n",
    "from datetime import datetime\n",
    "import h5py\n",
    "from matplotlib.colors import LogNorm"
   ]
  },
  {
   "cell_type": "code",
   "execution_count": 2,
   "metadata": {},
   "outputs": [],
   "source": [
    "file = '../../DataSorted/2004-01-22-GEO/MAD6400_2004-01-22_tau1_60@uhf.hdf5'\n",
    "#file = '../DataSorted/2004-11-07-SOL/EISCAT_2004-11-07_steffe_111@42m.hdf5'"
   ]
  },
  {
   "cell_type": "code",
   "execution_count": 3,
   "metadata": {},
   "outputs": [
    {
     "name": "stdout",
     "output_type": "stream",
     "text": [
      "Group: Data\n",
      "Dataset: Data/Table Layout\n",
      "Group: Metadata\n",
      "Dataset: Metadata/Data Parameters\n",
      "Dataset: Metadata/Experiment Notes\n",
      "Dataset: Metadata/Experiment Parameters\n",
      "Dataset: Metadata/Independent Spatial Parameters\n",
      "Dataset: Metadata/_record_layout\n"
     ]
    }
   ],
   "source": [
    "# Open the HDF5 file in read mode\n",
    "with h5py.File(file, 'r') as f:\n",
    "    # Function to recursively print dataset and group details\n",
    "    def print_hdf5_item_details(name, obj):\n",
    "        if isinstance(obj, h5py.Dataset):\n",
    "            print(f\"Dataset: {name}\")\n",
    "        elif isinstance(obj, h5py.Group):\n",
    "            print(f\"Group: {name}\")\n",
    "    \n",
    "    # Visit all items in the HDF5 file and print details\n",
    "    f.visititems(print_hdf5_item_details)\n"
   ]
  },
  {
   "cell_type": "code",
   "execution_count": 4,
   "metadata": {},
   "outputs": [
    {
     "name": "stdout",
     "output_type": "stream",
     "text": [
      "0 (b'YEAR', b'Year (universal time)', 0, b'y', b'Madrigal Hdf5 Prolog Parameters')\n",
      "1 (b'MONTH', b'Month (universal time)', 0, b'm', b'Madrigal Hdf5 Prolog Parameters')\n",
      "2 (b'DAY', b'Day (universal time)', 0, b'd', b'Madrigal Hdf5 Prolog Parameters')\n",
      "3 (b'HOUR', b'Hour (universal time)', 0, b'h', b'Madrigal Hdf5 Prolog Parameters')\n",
      "4 (b'MIN', b'Minute (universal time)', 0, b'm', b'Madrigal Hdf5 Prolog Parameters')\n",
      "5 (b'SEC', b'Second (universal time)', 0, b's', b'Madrigal Hdf5 Prolog Parameters')\n",
      "6 (b'RECNO', b'Logical Record Number', 0, b'N/A', b'Madrigal Hdf5 Prolog Parameters')\n",
      "7 (b'KINDAT', b'Kind of data', 0, b'N/A', b'Madrigal Hdf5 Prolog Parameters')\n",
      "8 (b'KINST', b'Instrument Code', 0, b'N/A', b'Madrigal Hdf5 Prolog Parameters')\n",
      "9 (b'UT1_UNIX', b'Unix seconds (1/1/1970) at start', 0, b's', b'Madrigal Hdf5 Prolog Parameters')\n",
      "10 (b'UT2_UNIX', b'Unix seconds (1/1/1970) at end', 0, b's', b'Madrigal Hdf5 Prolog Parameters')\n",
      "11 (b'HSA', b'Half scattering angle (bistatic system)', 0, b'deg', b'Geographic Coordinate')\n",
      "12 (b'AZM', b'Mean azimuth angle (0=geog N;90=east)', 0, b'deg', b'Geographic Coordinate')\n",
      "13 (b'ELM', b'Elevation angle (0=horizontal;90=vert)', 0, b'deg', b'Geographic Coordinate')\n",
      "14 (b'POWER', b'Peak power', 0, b'kW', b'Data Quality Parameter')\n",
      "15 (b'SYSTMP', b'System temperature', 0, b'K', b'Data Quality Parameter')\n",
      "16 (b'RANGE', b'Range', 0, b'km', b'Geographic Coordinate')\n",
      "17 (b'GDALT', b'Geodetic altitude (height)', 0, b'km', b'Geographic Coordinate')\n",
      "18 (b'NE', b'Electron density (Ne)', 0, b'm-3', b'I. S. Radar Basic Parameter')\n",
      "19 (b'TI', b'Ion temperature (Ti)', 0, b'K', b'I. S. Radar Basic Parameter')\n",
      "20 (b'TR', b'Temperature ratio (Te/Ti)', 0, b'N/A', b'I. S. Radar Basic Parameter')\n",
      "21 (b'CO', b'Ion-neutral collision frequency', 0, b's-1', b'I. S. Radar Basic Parameter')\n",
      "22 (b'VO', b'Line of sight ion velocity (pos = away)', 0, b'ms-1', b'I. S. Radar Basic Parameter')\n",
      "23 (b'PM', b'Comp - (ions with mol wt 28 to 32)/Ne', 0, b'N/A', b'I. S. Radar Basic Parameter')\n",
      "24 (b'PO+', b'Composition - [O+]/Ne', 0, b'N/A', b'I. S. Radar Basic Parameter')\n",
      "25 (b'DNE', b'Error in Electron density (Ne)', 1, b'm-3', b'I. S. Radar Basic Parameter')\n",
      "26 (b'DTI', b'Error in Ion temperature (Ti)', 1, b'K', b'I. S. Radar Basic Parameter')\n",
      "27 (b'DTR', b'Error in Temperature ratio (Te/Ti)', 1, b'N/A', b'I. S. Radar Basic Parameter')\n",
      "28 (b'DCO', b'Error in Ion-neutral collision frequency', 1, b's-1', b'I. S. Radar Basic Parameter')\n",
      "29 (b'DVO', b'Error in Line of sight ion velocity (pos = away)', 1, b'ms-1', b'I. S. Radar Basic Parameter')\n",
      "30 (b'DPM', b'Error in Comp - (ions with mol wt 28 to 32)/Ne', 1, b'N/A', b'I. S. Radar Basic Parameter')\n",
      "31 (b'DPO+', b'Error in Composition - [O+]/Ne', 1, b'N/A', b'I. S. Radar Basic Parameter')\n",
      "32 (b'GFIT', b'Goodness of fit', 0, b'N/A', b'Data Quality Parameter')\n",
      "33 (b'CHISQ', b'Reduced-chi square of fit', 0, b'N/A', b'Data Quality Parameter')\n"
     ]
    }
   ],
   "source": [
    "# Open the HDF5 file in read mode\n",
    "with h5py.File(file, 'r') as f: \n",
    "    data = f['Data']\n",
    "    metadata = f['Metadata']\n",
    "    i = 0\n",
    "    for array in metadata['Data Parameters']:\n",
    "        print(i, array)\n",
    "        i += 1"
   ]
  },
  {
   "cell_type": "code",
   "execution_count": 35,
   "metadata": {},
   "outputs": [
    {
     "name": "stdout",
     "output_type": "stream",
     "text": [
      "72\n"
     ]
    }
   ],
   "source": [
    "# Open the HDF5 file in read mode\n",
    "with h5py.File(file, 'r') as f: \n",
    "    data = f['Data']['Table Layout']\n",
    "    print(data[0][8])"
   ]
  },
  {
   "cell_type": "code",
   "execution_count": 37,
   "metadata": {},
   "outputs": [
    {
     "name": "stdout",
     "output_type": "stream",
     "text": [
      "[b'Pt' b'peak power of transmitter' b'W' b'r_Pt' b'power' b'486' b'6']\n",
      "[b'Tsys1'\n",
      " b'system temperatures, one for each calibrated code set used in analysis'\n",
      " b'K' b'r_Tsys' b'systmp' b'482' b'10']\n",
      "[b'Tsys2'\n",
      " b'system temperatures, one for each calibrated code set used in analysis'\n",
      " b'K' b'r_Tsys' b'systmp' b'482' b'10']\n"
     ]
    }
   ],
   "source": [
    "# Open the HDF5 file in read mode\n",
    "with h5py.File(file, 'r') as f: \n",
    "    metadata = f['metadata']\n",
    "    for array in np.char.strip(metadata['par1d']):\n",
    "        print(array)"
   ]
  },
  {
   "cell_type": "code",
   "execution_count": 38,
   "metadata": {},
   "outputs": [
    {
     "name": "stdout",
     "output_type": "stream",
     "text": [
      "[b'h' b'weighted mean of the scattering volume altitude' b'm' b'r_h'\n",
      " b'gdalt' b'110' b'18']\n",
      "[b'range' b'weighted mean range to the scattering volume' b'm' b'r_range'\n",
      " b'range' b'120' b'19']\n",
      "[b'Ne' b'electron density' b'm-3' b'r_param' b'ne' b'510' b'20']\n",
      "[b'Ti' b'ion temperature' b'K' b'r_param' b'ti' b'550' b'21']\n",
      "[b'Tr' b'electron to ion temperature ratio' b'1' b'r_param' b'tr' b'570'\n",
      " b'22']\n",
      "[b'Collf' b'ion collision frequency' b's-1' b'r_param' b'co' b'709' b'23']\n",
      "[b'Vi' b'ion drift velocity, positive away from antenna' b'm/s' b'r_param'\n",
      " b'vo' b'580' b'24']\n",
      "[b'pm' b'composition \\x13 ion mix [O2+,NO+]/Ne' b'1' b'r_param' b'pm'\n",
      " b'690' b'101']\n",
      "[b'po+' b'composition \\x13 [O+]/Ne' b'1' b'r_param' b'po+' b'620' b'54']\n",
      "[b'var_Ne' b'variance of electron density' b'm-6' b'r_error' b'var_ne'\n",
      " b'2350' b'155']\n",
      "[b'var_Ti' b'variance of ion temperature' b'K2' b'r_error' b'var_ti'\n",
      " b'2355' b'156']\n",
      "[b'var_Tr' b'variance of electron to ion temperature ratio' b'1'\n",
      " b'r_error' b'var_tr' b'2359' b'157']\n",
      "[b'var_Collf' b'variance of ion collision frequency' b's-2' b'r_error'\n",
      " b'var_co' b'2360' b'158']\n",
      "[b'var_Vi' b'variance ion drift velocity' b'm2/s2' b'r_error' b'var_vo'\n",
      " b'2370' b'159']\n",
      "[b'var_pm' b'variance of ion mix content - [O2+,NO+]/Ne' b'1' b'N/A'\n",
      " b'var_pm' b'2395' b'166']\n",
      "[b'var_po+' b'variance of O+ content - [O+]/Ne' b'1' b'N/A' b'var_po+'\n",
      " b'2390' b'167']\n",
      "[b'crossvar_12' b'cross variance (p1,p2)' b'N/A' b'r_error' b'N/A' b'0'\n",
      " b'36']\n",
      "[b'crossvar_23' b'cross variance (p2,p3)' b'N/A' b'r_error' b'N/A' b'0'\n",
      " b'36']\n",
      "[b'crossvar_34' b'cross variance (p3,p4)' b'N/A' b'r_error' b'N/A' b'0'\n",
      " b'36']\n",
      "[b'crossvar_45' b'cross variance (p4,p5)' b'N/A' b'r_error' b'N/A' b'0'\n",
      " b'36']\n",
      "[b'crossvar_56' b'cross variance (p5,p6)' b'N/A' b'r_error' b'N/A' b'0'\n",
      " b'36']\n",
      "[b'crossvar_13' b'cross variance (p1,p3)' b'N/A' b'r_error' b'N/A' b'0'\n",
      " b'36']\n",
      "[b'crossvar_24' b'cross variance (p2,p4)' b'N/A' b'r_error' b'N/A' b'0'\n",
      " b'36']\n",
      "[b'crossvar_35' b'cross variance (p3,p5)' b'N/A' b'r_error' b'N/A' b'0'\n",
      " b'36']\n",
      "[b'crossvar_46' b'cross variance (p4,p6)' b'N/A' b'r_error' b'N/A' b'0'\n",
      " b'36']\n",
      "[b'crossvar_14' b'cross variance (p1,p4)' b'N/A' b'r_error' b'N/A' b'0'\n",
      " b'36']\n",
      "[b'crossvar_25' b'cross variance (p2,p5)' b'N/A' b'r_error' b'N/A' b'0'\n",
      " b'36']\n",
      "[b'crossvar_36' b'cross variance (p3,p6)' b'N/A' b'r_error' b'N/A' b'0'\n",
      " b'36']\n",
      "[b'crossvar_15' b'cross variance (p1,p5)' b'N/A' b'r_error' b'N/A' b'0'\n",
      " b'36']\n",
      "[b'crossvar_26' b'cross variance (p2,p6)' b'N/A' b'r_error' b'N/A' b'0'\n",
      " b'36']\n",
      "[b'crossvar_16' b'cross variance (p1,p6)' b'N/A' b'r_error' b'N/A' b'0'\n",
      " b'36']\n",
      "[b'aprNe' b'a priori electron density' b'm-3' b'r_apriori' b'N/A' b'0'\n",
      " b'37']\n",
      "[b'aprTi' b'a priori ion temperature' b'K' b'r_apriori' b'N/A' b'0' b'38']\n",
      "[b'aprTr' b'a priori electron to ion temperature ratio' b'1' b'r_apriori'\n",
      " b'N/A' b'0' b'39']\n",
      "[b'aprCollf' b'a priori ion collision frequency' b's-1' b'r_apriori'\n",
      " b'N/A' b'0' b'40']\n",
      "[b'aprVi' b'a priori ion drift velocity, positive towards antenna' b'm/s'\n",
      " b'r_apriori' b'N/A' b'0' b'41']\n",
      "[b'aprpm' b'a priori ion mix content - [O2+,NO+]/Ne' b'1' b'N/A' b'N/A'\n",
      " b'0' b'174']\n",
      "[b'aprpo+' b'a priori O+ content - [O+]/Ne' b'1' b'N/A' b'N/A' b'0' b'175']\n",
      "[b'aprNe_error' b'a priori error electron density' b'm-3'\n",
      " b'r_apriorierror' b'N/A' b'0' b'45']\n",
      "[b'aprTi_error' b'a priori error ion temperature' b'K' b'r_apriorierror'\n",
      " b'N/A' b'0' b'46']\n",
      "[b'aprTr_error' b'a priori error electron to ion temperature ratio' b'1'\n",
      " b'r_apriorierror' b'N/A' b'0' b'47']\n",
      "[b'aprCollf_error' b'a priori error ion collision frequency' b's-1'\n",
      " b'r_apriorierror' b'N/A' b'0' b'48']\n",
      "[b'aprVi_error' b'a priori error ion drift velocity' b'm/s'\n",
      " b'r_apriorierror' b'N/A' b'0' b'49']\n",
      "[b'aprpm_error' b'a priori error ion mix content - [O2+,NO+]/Ne' b'1'\n",
      " b'N/A' b'N/A' b'0' b'178']\n",
      "[b'aprpo+_error' b'a priori error O+ content - [O+]/Ne' b'1' b'N/A' b'N/A'\n",
      " b'0' b'179']\n",
      "[b'status'\n",
      " b'status of the fit (0=fit ok, 1=max number of iterations exceeded, 2=No fit done, 3=fit fail (outside limits))'\n",
      " b'N/A' b'r_status' b'gfit' b'430' b'53']\n",
      "[b'res1' b'residual of the fit with standard deviation' b'N/A' b'r_res'\n",
      " b'chisq' b'420' b'55']\n",
      "[b'res2' b'sqrt(2/#measurements)' b'N/A' b'r_res' b'N/A' b'0' b'55']\n"
     ]
    }
   ],
   "source": [
    "# Open the HDF5 file in read mode\n",
    "with h5py.File(file, 'r') as f: \n",
    "    metadata = f['metadata']\n",
    "    for array in np.char.strip(metadata['par2d']):\n",
    "        print(array)"
   ]
  },
  {
   "cell_type": "code",
   "execution_count": 39,
   "metadata": {},
   "outputs": [
    {
     "name": "stdout",
     "output_type": "stream",
     "text": [
      "0 [b'pprange' b'power profile range to scattering volume' b'm' b'r_pprange'\n",
      " b'range' b'120' b'61']\n",
      "1 [b'pp' b'uncorrected electron densities (Te/Ti=1)' b'm-3' b'r_pp' b'pop'\n",
      " b'500' b'62']\n"
     ]
    }
   ],
   "source": [
    "# Open the HDF5 file in read mode\n",
    "with h5py.File(file, 'r') as f: \n",
    "    data = f['data']\n",
    "    metadata = f['metadata']\n",
    "    i = 0\n",
    "    for array in np.char.strip(metadata['par2d_pp']):\n",
    "        print(i, array)\n",
    "        i += 1"
   ]
  },
  {
   "cell_type": "code",
   "execution_count": 40,
   "metadata": {},
   "outputs": [
    {
     "name": "stdout",
     "output_type": "stream",
     "text": [
      "0 [b'time1' b'start time of the integration period, unix time' b's'\n",
      " b'r_time' b'ut1_unix' b'11' b'1']\n",
      "1 [b'time2' b'end time of the integration period, unix time' b's' b'r_time'\n",
      " b'ut2_unix' b'12' b'1']\n"
     ]
    }
   ],
   "source": [
    "# Open the HDF5 file in read mode\n",
    "with h5py.File(file, 'r') as f: \n",
    "    data = f['data']\n",
    "    metadata = f['metadata']\n",
    "    i = 0\n",
    "    for array in np.char.strip(metadata['utime']):\n",
    "        print(i, array)\n",
    "        i += 1"
   ]
  },
  {
   "cell_type": "code",
   "execution_count": 64,
   "metadata": {},
   "outputs": [
    {
     "name": "stdout",
     "output_type": "stream",
     "text": [
      "(2004, 11, 7, 0, 0, 57, 0, 6400, 95, 1.0997856e+09, 1.09978571e+09, 182.1000061, 81.59999847, 1.57079637, 991.111125, 62.51709747, 78.08757812, 77.25996875, 1.05031866e+09, 225.80804443, 1., 117326.1953125, 163.12695312, 1., 0., 1.04709184e+08, 0., 0., 0., 12.6702261, 0., 0., 0., 1.80404985)\n",
      "True\n",
      "17 (b'GDALT', b'Geodetic altitude (height)', 0, b'km', b'Geographic Coordinate')\n",
      "18 (b'NE', b'Electron density (Ne)', 0, b'm-3', b'I. S. Radar Basic Parameter')\n"
     ]
    }
   ],
   "source": [
    "# Open the HDF5 file in read mode\n",
    "with h5py.File(file, 'r') as f: \n",
    "    data = f['Data']\n",
    "    print(data['Table Layout'][:][0])\n",
    "    metadata = f['Metadata']\n",
    "    print('utime_pp' not in metadata)\n",
    "    i = 0\n",
    "    for array in metadata['Data Parameters']:\n",
    "        if array[0] == b'NE':\n",
    "            print(i, array)\n",
    "        elif array[0] == b'GDALT':\n",
    "            print(i, array)\n",
    "        elif array[0] == b'range':\n",
    "            print(i, array)\n",
    "        i += 1"
   ]
  },
  {
   "cell_type": "code",
   "execution_count": null,
   "metadata": {},
   "outputs": [],
   "source": []
  },
  {
   "cell_type": "code",
   "execution_count": null,
   "metadata": {},
   "outputs": [],
   "source": []
  }
 ],
 "metadata": {
  "kernelspec": {
   "display_name": "base",
   "language": "python",
   "name": "python3"
  },
  "language_info": {
   "codemirror_mode": {
    "name": "ipython",
    "version": 3
   },
   "file_extension": ".py",
   "mimetype": "text/x-python",
   "name": "python",
   "nbconvert_exporter": "python",
   "pygments_lexer": "ipython3",
   "version": "3.11.8"
  }
 },
 "nbformat": 4,
 "nbformat_minor": 2
}
