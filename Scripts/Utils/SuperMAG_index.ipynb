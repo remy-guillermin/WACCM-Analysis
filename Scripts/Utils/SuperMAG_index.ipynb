{
 "cells": [
  {
   "cell_type": "code",
   "execution_count": 1,
   "metadata": {},
   "outputs": [],
   "source": [
    "import numpy as np\n",
    "import pandas as pd\n",
    "import datetime"
   ]
  },
  {
   "cell_type": "code",
   "execution_count": 8,
   "metadata": {},
   "outputs": [],
   "source": [
    "def convert_to_date(year, month, day):\n",
    "    date = datetime.datetime(int(year), int(month), int(day))\n",
    "    return date.strftime('%Y-%m-%d')\n",
    "\n",
    "vectorized_convert_to_date = np.vectorize(convert_to_date)"
   ]
  },
  {
   "cell_type": "code",
   "execution_count": 21,
   "metadata": {},
   "outputs": [],
   "source": [
    "path_2004 = '../../Index/supermag_2004.txt'\n",
    "path_2008 = '../../Index/supermag_2008.txt'\n",
    "path_2011 = '../../Index/supermag_2011.txt'\n",
    "\n",
    "with open(path_2004, 'r') as file:\n",
    "    data_2004 = pd.read_csv(file, sep='\\s+', skiprows=104)\n",
    "with open(path_2008, 'r') as file:\n",
    "    data_2008 = pd.read_csv(file, sep='\\s+', skiprows=104)\n",
    "with open(path_2011, 'r') as file:\n",
    "    data_2011 = pd.read_csv(file, sep='\\s+', skiprows=104)\n",
    "\n",
    "data_global = pd.concat([data_2004, data_2008, data_2011])\n",
    "\n",
    "data_global.replace(999999, pd.NA, inplace=True)"
   ]
  },
  {
   "cell_type": "code",
   "execution_count": 39,
   "metadata": {},
   "outputs": [],
   "source": [
    "formatted_dates = vectorized_convert_to_date(data_global['<year>'].values, data_global['<month>'].values, data_global['<day>'].values)\n",
    "formatted_times =  data_global['<hour>'].values + data_global['<min>'].values/60\n",
    "\n",
    "formatted_dates = formatted_dates.reshape((-1,30))[:,0]\n",
    "formatted_times = formatted_times.reshape((-1,30))[:,0]\n",
    "\n",
    "SML = data_global['<SML(nT)>'].values.reshape((-1,30))\n",
    "SMU = data_global['<SMU(nT)>'].values.reshape((-1,30))\n",
    "\n",
    "SML = np.mean(SML*10, axis = 1).astype(int)/10\n",
    "SMU = np.mean(SMU*10, axis = 1).astype(int)/10\n",
    "\n",
    "path_global = '../../Index/supermag_global.csv'\n",
    "\n",
    "output_df = pd.DataFrame({\n",
    "    'Date': formatted_dates,\n",
    "    'Time': formatted_times,\n",
    "    'SML': SML,\n",
    "    'SMU': SMU\n",
    "})\n",
    "\n",
    "output_df.to_csv(path_global, index=False)"
   ]
  },
  {
   "cell_type": "code",
   "execution_count": null,
   "metadata": {},
   "outputs": [],
   "source": []
  }
 ],
 "metadata": {
  "kernelspec": {
   "display_name": "Python 3",
   "language": "python",
   "name": "python3"
  },
  "language_info": {
   "codemirror_mode": {
    "name": "ipython",
    "version": 3
   },
   "file_extension": ".py",
   "mimetype": "text/x-python",
   "name": "python",
   "nbconvert_exporter": "python",
   "pygments_lexer": "ipython3",
   "version": "3.11.8"
  }
 },
 "nbformat": 4,
 "nbformat_minor": 2
}
