{
 "cells": [
  {
   "cell_type": "code",
   "execution_count": 6,
   "metadata": {},
   "outputs": [],
   "source": [
    "import numpy as np\n",
    "import pandas as pd\n",
    "import datetime"
   ]
  },
  {
   "cell_type": "code",
   "execution_count": 33,
   "metadata": {},
   "outputs": [],
   "source": [
    "def convert_date(date_UTC):\n",
    "    date, time = date_UTC.split(' ')\n",
    "    hours, minutes, _ = time.split(':')\n",
    "    return (date, int(hours) + int(minutes)/60)\n",
    "\n",
    "vectorized_convert_date = np.vectorize(convert_date)"
   ]
  },
  {
   "cell_type": "code",
   "execution_count": 34,
   "metadata": {},
   "outputs": [],
   "source": [
    "path_2004 = '../../Index/supermag_2004.csv'\n",
    "path_2008 = '../../Index/supermag_2008.csv'\n",
    "path_2011 = '../../Index/supermag_2011.csv'\n",
    "\n",
    "with open(path_2004, 'r') as file:\n",
    "    data_2004 = pd.read_csv(file)\n",
    "with open(path_2008, 'r') as file:\n",
    "    data_2008 = pd.read_csv(file)\n",
    "with open(path_2011, 'r') as file:\n",
    "    data_2011 = pd.read_csv(file)\n",
    "\n",
    "data_global = pd.concat([data_2004, data_2008, data_2011])\n",
    "\n",
    "data_global.replace(999999, pd.NA, inplace=True)"
   ]
  },
  {
   "cell_type": "code",
   "execution_count": 37,
   "metadata": {},
   "outputs": [],
   "source": [
    "formatted_dates, formatted_times = vectorized_convert_date(data_global['Date_UTC'].values)\n",
    "\n",
    "formatted_dates = formatted_dates.reshape((-1,30))[:,0]\n",
    "formatted_times = formatted_times.reshape((-1,30))[:,0]\n",
    "\n",
    "SML = data_global['SML'].values.reshape((-1,30))\n",
    "SMU = data_global['SMU'].values.reshape((-1,30))\n",
    "\n",
    "SML = np.mean(SML*10, axis = 1).astype(int)/10\n",
    "SMU = np.mean(SMU*10, axis = 1).astype(int)/10\n",
    "\n",
    "path_global = '../../Index/supermag_global.csv'\n",
    "\n",
    "output_df = pd.DataFrame({\n",
    "    'Date': formatted_dates,\n",
    "    'Time': formatted_times,\n",
    "    'SML': SML,\n",
    "    'SMU': SMU\n",
    "})\n",
    "\n",
    "output_df.to_csv(path_global, index=False)"
   ]
  },
  {
   "cell_type": "code",
   "execution_count": null,
   "metadata": {},
   "outputs": [],
   "source": []
  }
 ],
 "metadata": {
  "kernelspec": {
   "display_name": "Python 3",
   "language": "python",
   "name": "python3"
  },
  "language_info": {
   "codemirror_mode": {
    "name": "ipython",
    "version": 3
   },
   "file_extension": ".py",
   "mimetype": "text/x-python",
   "name": "python",
   "nbconvert_exporter": "python",
   "pygments_lexer": "ipython3",
   "version": "3.11.8"
  }
 },
 "nbformat": 4,
 "nbformat_minor": 2
}
