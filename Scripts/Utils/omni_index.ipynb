{
 "cells": [
  {
   "cell_type": "code",
   "execution_count": 2,
   "metadata": {},
   "outputs": [],
   "source": [
    "import numpy as np\n",
    "import pandas as pd\n",
    "import datetime"
   ]
  },
  {
   "cell_type": "code",
   "execution_count": 3,
   "metadata": {},
   "outputs": [],
   "source": [
    "def convert_to_date(year, day_of_year):\n",
    "    date = datetime.datetime(int(year), 1, 1) + datetime.timedelta(days=int(day_of_year) - 1)\n",
    "    return date.strftime('%Y-%m-%d')\n",
    "\n",
    "vectorized_convert_to_date = np.vectorize(convert_to_date)"
   ]
  },
  {
   "cell_type": "code",
   "execution_count": 4,
   "metadata": {},
   "outputs": [],
   "source": [
    "colspecs = [(0, 4), (5, 8), (9, 11), (12, 14), (15, 22), (23, 30)]\n",
    "\n",
    "column_names = ['Year', 'Day', 'Hour', 'Minute', 'IMF', 'Speed']\n",
    "\n",
    "path_2004 = '../../Index/omni_2004.txt'\n",
    "path_2008 = '../../Index/omni_2008.txt'\n",
    "path_2011 = '../../Index/omni_2011.txt'\n",
    "\n",
    "with open(path_2004, 'r') as file:\n",
    "    data_2004 = pd.read_fwf(file, colspecs=colspecs, names=column_names)\n",
    "with open(path_2008, 'r') as file:\n",
    "    data_2008 = pd.read_fwf(file, colspecs=colspecs, names=column_names)\n",
    "with open(path_2011, 'r') as file:\n",
    "    data_2011 = pd.read_fwf(file, colspecs=colspecs, names=column_names)\n",
    "\n",
    "data_global = pd.concat([data_2004, data_2008, data_2011], ignore_index=True)\n",
    "data_global[data_global == 99999.9] = np.nan\n",
    "data_global[data_global == 9999.99] = np.nan"
   ]
  },
  {
   "cell_type": "code",
   "execution_count": 5,
   "metadata": {},
   "outputs": [
    {
     "name": "stderr",
     "output_type": "stream",
     "text": [
      "/var/folders/np/43rq4vzs0js_3z1xt5mx73hr0000gn/T/ipykernel_55640/3463376067.py:10: RuntimeWarning: Mean of empty slice\n",
      "  IMF = int(np.nanmean(IMF, axis = 1))\n"
     ]
    },
    {
     "ename": "TypeError",
     "evalue": "only length-1 arrays can be converted to Python scalars",
     "output_type": "error",
     "traceback": [
      "\u001b[0;31m---------------------------------------------------------------------------\u001b[0m",
      "\u001b[0;31mTypeError\u001b[0m                                 Traceback (most recent call last)",
      "Cell \u001b[0;32mIn[5], line 10\u001b[0m\n\u001b[1;32m      7\u001b[0m IMF \u001b[38;5;241m=\u001b[39m data_global[\u001b[38;5;124m'\u001b[39m\u001b[38;5;124mIMF\u001b[39m\u001b[38;5;124m'\u001b[39m]\u001b[38;5;241m.\u001b[39mvalues\u001b[38;5;241m.\u001b[39mreshape((\u001b[38;5;241m-\u001b[39m\u001b[38;5;241m1\u001b[39m,\u001b[38;5;241m6\u001b[39m))\n\u001b[1;32m      8\u001b[0m speed \u001b[38;5;241m=\u001b[39m data_global[\u001b[38;5;124m'\u001b[39m\u001b[38;5;124mSpeed\u001b[39m\u001b[38;5;124m'\u001b[39m]\u001b[38;5;241m.\u001b[39mvalues\u001b[38;5;241m.\u001b[39mreshape((\u001b[38;5;241m-\u001b[39m\u001b[38;5;241m1\u001b[39m,\u001b[38;5;241m6\u001b[39m))\n\u001b[0;32m---> 10\u001b[0m IMF \u001b[38;5;241m=\u001b[39m \u001b[38;5;28;43mint\u001b[39;49m\u001b[43m(\u001b[49m\u001b[43mnp\u001b[49m\u001b[38;5;241;43m.\u001b[39;49m\u001b[43mnanmean\u001b[49m\u001b[43m(\u001b[49m\u001b[43mIMF\u001b[49m\u001b[43m,\u001b[49m\u001b[43m \u001b[49m\u001b[43maxis\u001b[49m\u001b[43m \u001b[49m\u001b[38;5;241;43m=\u001b[39;49m\u001b[43m \u001b[49m\u001b[38;5;241;43m1\u001b[39;49m\u001b[43m)\u001b[49m\u001b[43m)\u001b[49m\n\u001b[1;32m     11\u001b[0m speed \u001b[38;5;241m=\u001b[39m np\u001b[38;5;241m.\u001b[39mnanmean(speed, axis \u001b[38;5;241m=\u001b[39m \u001b[38;5;241m1\u001b[39m)\n\u001b[1;32m     13\u001b[0m path_global \u001b[38;5;241m=\u001b[39m \u001b[38;5;124m'\u001b[39m\u001b[38;5;124m../../Index/omni_global.csv\u001b[39m\u001b[38;5;124m'\u001b[39m\n",
      "\u001b[0;31mTypeError\u001b[0m: only length-1 arrays can be converted to Python scalars"
     ]
    }
   ],
   "source": [
    "formatted_dates = vectorized_convert_to_date(data_global['Year'].values, data_global['Day'].values)\n",
    "formatted_times =  data_global['Hour'].values + data_global['Minute'].values/60\n",
    "\n",
    "formatted_dates = formatted_dates.reshape((-1,6))[:,0]\n",
    "formatted_times = formatted_times.reshape((-1,6))[:,0]\n",
    "\n",
    "IMF = data_global['IMF'].values.reshape((-1,6))\n",
    "speed = data_global['Speed'].values.reshape((-1,6))\n",
    "\n",
    "IMF = np.nanmean(IMF, axis = 1)\n",
    "speed = np.nanmean(speed, axis = 1)\n",
    "\n",
    "path_global = '../../Index/omni_global.csv'\n",
    "\n",
    "output_df = pd.DataFrame({\n",
    "    'Date': formatted_dates,\n",
    "    'Time': formatted_times,\n",
    "    'IMF': IMF,\n",
    "    'Speed': speed\n",
    "})\n",
    "\n",
    "output_df.to_csv(path_global, index=False)"
   ]
  },
  {
   "cell_type": "code",
   "execution_count": null,
   "metadata": {},
   "outputs": [],
   "source": []
  }
 ],
 "metadata": {
  "kernelspec": {
   "display_name": "Python 3",
   "language": "python",
   "name": "python3"
  },
  "language_info": {
   "codemirror_mode": {
    "name": "ipython",
    "version": 3
   },
   "file_extension": ".py",
   "mimetype": "text/x-python",
   "name": "python",
   "nbconvert_exporter": "python",
   "pygments_lexer": "ipython3",
   "version": "3.11.8"
  }
 },
 "nbformat": 4,
 "nbformat_minor": 2
}
