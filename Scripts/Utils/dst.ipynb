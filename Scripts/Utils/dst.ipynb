{
 "cells": [
  {
   "cell_type": "code",
   "execution_count": 1,
   "metadata": {},
   "outputs": [],
   "source": [
    "import numpy as np\n",
    "import pandas as pd"
   ]
  },
  {
   "cell_type": "code",
   "execution_count": 74,
   "metadata": {},
   "outputs": [],
   "source": [
    "# Function to switch year with day\n",
    "def switch_year_day(date):\n",
    "    day, month, year = date.split('-')\n",
    "    return f'{year}-{month}-{day}'"
   ]
  },
  {
   "cell_type": "code",
   "execution_count": 76,
   "metadata": {},
   "outputs": [],
   "source": [
    "dst_index = pd.read_csv('global_dst.csv')\n",
    "dates = np.array(dst_index['DATE']).astype(str)\n",
    "dates = np.char.replace(dates, '/', '-')\n",
    "dates_modified = np.array([switch_year_day(date) for date in dates])\n",
    "dst_index['DATE'] = dates_modified\n",
    "dst_index.to_csv('global_dst.csv', index=False)"
   ]
  },
  {
   "cell_type": "code",
   "execution_count": 7,
   "metadata": {},
   "outputs": [],
   "source": [
    "dst_index = pd.read_csv('global_dst.csv')\n",
    "mask = dst_index['DATE'] == '2004-01-01'"
   ]
  }
 ],
 "metadata": {
  "kernelspec": {
   "display_name": "Python 3",
   "language": "python",
   "name": "python3"
  },
  "language_info": {
   "codemirror_mode": {
    "name": "ipython",
    "version": 3
   },
   "file_extension": ".py",
   "mimetype": "text/x-python",
   "name": "python",
   "nbconvert_exporter": "python",
   "pygments_lexer": "ipython3",
   "version": "3.11.8"
  }
 },
 "nbformat": 4,
 "nbformat_minor": 2
}
