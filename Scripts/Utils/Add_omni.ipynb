{
 "cells": [
  {
   "cell_type": "code",
   "execution_count": 39,
   "metadata": {},
   "outputs": [],
   "source": [
    "import numpy as np\n",
    "import pandas as pd"
   ]
  },
  {
   "cell_type": "code",
   "execution_count": 86,
   "metadata": {},
   "outputs": [],
   "source": [
    "file = 'global_data_4_1'\n",
    "file_split = np.array(file.split('_'))[-2:].astype(float)\n",
    "\n",
    "time_bin  = file_split[-1]\n",
    "H_bin  = file_split[-2]\n",
    "\n",
    "time_bins = np.arange(0,24,time_bin)\n",
    "H_bins = np.arange(90,130,H_bin)\n",
    "\n",
    "shape = len(time_bins) * len(H_bins)\n",
    "\n",
    "file_path = f'../../Results/{file}.csv'\n",
    "omni_path = '../../Index/omni_global.csv'"
   ]
  },
  {
   "cell_type": "code",
   "execution_count": 87,
   "metadata": {},
   "outputs": [
    {
     "name": "stderr",
     "output_type": "stream",
     "text": [
      "/var/folders/np/43rq4vzs0js_3z1xt5mx73hr0000gn/T/ipykernel_54258/299634605.py:15: RuntimeWarning: Mean of empty slice\n",
      "  IMF = np.nanmean(IMF.reshape(-1,2), axis = 1)\n",
      "/var/folders/np/43rq4vzs0js_3z1xt5mx73hr0000gn/T/ipykernel_54258/299634605.py:16: RuntimeWarning: Mean of empty slice\n",
      "  speed = np.nanmean(speed.reshape(-1,2), axis = 1)\n"
     ]
    }
   ],
   "source": [
    "data_df = pd.read_csv(file_path)\n",
    "omni_df = pd.read_csv(omni_path)\n",
    "Date = np.array(data_df['Date']).reshape(-1,shape)[:,0]\n",
    "Time = np.array(data_df['Hours']).reshape(-1,shape)[:,0]\n",
    "Mask = np.array(data_df['EXP Density']).reshape(-1,shape) == 0.0\n",
    "\n",
    "Date_index = omni_df['Date'].values\n",
    "Time_index = omni_df['Time'].values\n",
    "IMF = omni_df['IMF'].values\n",
    "speed = omni_df['Speed'].values\n",
    "\n",
    "if time_bin == 1:\n",
    "    Date_index = Date_index.reshape(-1,2)[:,0]\n",
    "    Time_index = Time_index.reshape(-1,2)[:,0]\n",
    "    IMF = np.nanmean(IMF.reshape(-1,2), axis = 1)\n",
    "    speed = np.nanmean(speed.reshape(-1,2), axis = 1)\n",
    "\n",
    "IMF[np.isnan(IMF)] = 0\n",
    "speed[np.isnan(speed)] = 0\n",
    "\n",
    "next_IMF = np.concatenate(([IMF[-1]], IMF[0:-1]))\n",
    "next_speed = np.concatenate(([speed[-1]], speed[0:-1]))\n",
    "\n",
    "dIMF = (IMF-next_IMF)/time_bin\n",
    "dspeed = (speed-next_speed)/time_bin\n",
    "\n",
    "IMF_list = []\n",
    "dIMF_list = []\n",
    "speed_list = []\n",
    "dspeed_list = []\n",
    "\n",
    "for date in Date:\n",
    "    date_index_mask = Date_index == date\n",
    "\n",
    "    IMF_list.append(np.tile(IMF[date_index_mask], int(40/H_bin)))\n",
    "    dIMF_list.append(np.tile(dIMF[date_index_mask], int(40/H_bin)))\n",
    "    speed_list.append(np.tile(speed[date_index_mask], int(40/H_bin)))\n",
    "    dspeed_list.append(np.tile(dspeed[date_index_mask], int(40/H_bin)))\n",
    "\n",
    "\n",
    "IMF_array = np.array(IMF_list)\n",
    "dIMF_array = np.array(dIMF_list)\n",
    "speed_array = np.array(speed_list)\n",
    "dspeed_array = np.array(dspeed_list)\n",
    "\n",
    "IMF_array[Mask] = 0\n",
    "dIMF_array[Mask] = 0\n",
    "speed_array[Mask] = 0\n",
    "dspeed_array[Mask] = 0\n",
    "\n",
    "IMF_array = IMF_array.reshape(1, -1)[0]\n",
    "dIMF_array = dIMF_array.reshape(1, -1)[0]\n",
    "speed_array = speed_array.reshape(1, -1)[0]\n",
    "dspeed_array = dspeed_array.reshape(1, -1)[0]\n",
    "\n",
    "data_df['IMF'] = (IMF_array*100).astype(int)/100\n",
    "data_df['IMF Gradient'] = (dIMF_array*100).astype(int)/100\n",
    "data_df['Speed'] = (speed_array*100).astype(int)/100\n",
    "data_df['Speed Gradient'] = (dspeed_array*100).astype(int)/100\n",
    "\n",
    "data_df.to_csv(file_path, index=False)"
   ]
  },
  {
   "cell_type": "code",
   "execution_count": null,
   "metadata": {},
   "outputs": [],
   "source": []
  }
 ],
 "metadata": {
  "kernelspec": {
   "display_name": "Python 3",
   "language": "python",
   "name": "python3"
  },
  "language_info": {
   "codemirror_mode": {
    "name": "ipython",
    "version": 3
   },
   "file_extension": ".py",
   "mimetype": "text/x-python",
   "name": "python",
   "nbconvert_exporter": "python",
   "pygments_lexer": "ipython3",
   "version": "3.11.8"
  }
 },
 "nbformat": 4,
 "nbformat_minor": 2
}
