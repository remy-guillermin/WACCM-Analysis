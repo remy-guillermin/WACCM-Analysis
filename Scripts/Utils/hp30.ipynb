{
 "cells": [
  {
   "cell_type": "code",
   "execution_count": 1,
   "metadata": {},
   "outputs": [],
   "source": [
    "import numpy as np\n",
    "import json"
   ]
  },
  {
   "cell_type": "code",
   "execution_count": 2,
   "metadata": {},
   "outputs": [],
   "source": [
    "path_2004 = '2004.json'\n",
    "path_2008 = '2008.json'\n",
    "path_2011 = '2011.json'\n",
    "\n",
    "with open(path_2004, 'r') as file:\n",
    "    data_2004 = json.load(file)\n",
    "\n",
    "with open(path_2008, 'r') as file:\n",
    "    data_2008 = json.load(file)\n",
    "\n",
    "with open(path_2011, 'r') as file:\n",
    "    data_2011 = json.load(file)"
   ]
  },
  {
   "cell_type": "code",
   "execution_count": 3,
   "metadata": {},
   "outputs": [
    {
     "name": "stdout",
     "output_type": "stream",
     "text": [
      "Data successfully saved to global_hp30.json\n"
     ]
    }
   ],
   "source": [
    "date_global = np.concatenate((data_2004['datetime'], data_2008['datetime'], data_2011['datetime'])).tolist()\n",
    "hp30_global = np.concatenate((data_2004['Hp30'], data_2008['Hp30'], data_2011['Hp30'])).tolist()\n",
    "meta = data_2004['meta']\n",
    "\n",
    "data_to_save = {\n",
    "    'meta': meta,\n",
    "    'datetime': date_global,\n",
    "    'Hp30': hp30_global,\n",
    "}\n",
    "\n",
    "file = 'global_hp30.json'\n",
    "# Save the dictionary to a JSON file\n",
    "with open(file, 'w') as json_file:\n",
    "    json.dump(data_to_save, json_file, indent=4)\n",
    "\n",
    "print(f'Data successfully saved to {file}')"
   ]
  },
  {
   "cell_type": "code",
   "execution_count": null,
   "metadata": {},
   "outputs": [],
   "source": []
  }
 ],
 "metadata": {
  "kernelspec": {
   "display_name": "Python 3",
   "language": "python",
   "name": "python3"
  },
  "language_info": {
   "codemirror_mode": {
    "name": "ipython",
    "version": 3
   },
   "file_extension": ".py",
   "mimetype": "text/x-python",
   "name": "python",
   "nbconvert_exporter": "python",
   "pygments_lexer": "ipython3",
   "version": "3.11.8"
  }
 },
 "nbformat": 4,
 "nbformat_minor": 2
}
