{
 "cells": [
  {
   "cell_type": "code",
   "execution_count": 3,
   "metadata": {},
   "outputs": [],
   "source": [
    "import numpy as np\n",
    "import json"
   ]
  },
  {
   "cell_type": "code",
   "execution_count": 4,
   "metadata": {},
   "outputs": [],
   "source": [
    "path_2004 = '2004.json'\n",
    "path_2008 = '2008.json'\n",
    "path_2011 = '2011.json'\n",
    "\n",
    "# Open the JSON file and load the data\n",
    "with open(path_2004, 'r') as file:\n",
    "    data_2004 = json.load(file)\n",
    "\n",
    "# Open the JSON file and load the data\n",
    "with open(path_2008, 'r') as file:\n",
    "    data_2008 = json.load(file)\n",
    "\n",
    "# Open the JSON file and load the data\n",
    "with open(path_2011, 'r') as file:\n",
    "    data_2011 = json.load(file)"
   ]
  },
  {
   "cell_type": "code",
   "execution_count": 5,
   "metadata": {},
   "outputs": [
    {
     "name": "stdout",
     "output_type": "stream",
     "text": [
      "dict_keys(['meta', 'datetime', 'Hp30'])\n",
      "17568\n"
     ]
    }
   ],
   "source": [
    "print(data_2004.keys())\n",
    "print(len(data_2004['datetime']))"
   ]
  },
  {
   "cell_type": "code",
   "execution_count": 6,
   "metadata": {},
   "outputs": [],
   "source": [
    "date_global = np.concatenate((data_2004['datetime'], data_2008['datetime'], data_2011['datetime'])).tolist()\n",
    "hp30_global = np.concatenate((data_2004['Hp30'], data_2008['Hp30'], data_2011['Hp30'])).tolist()\n",
    "meta = data_2004['meta']"
   ]
  },
  {
   "cell_type": "code",
   "execution_count": 7,
   "metadata": {},
   "outputs": [],
   "source": [
    "data_to_save = {\n",
    "    'meta': meta,\n",
    "    'datetime': date_global,\n",
    "    'Hp30': hp30_global,\n",
    "}"
   ]
  },
  {
   "cell_type": "code",
   "execution_count": 8,
   "metadata": {},
   "outputs": [
    {
     "name": "stdout",
     "output_type": "stream",
     "text": [
      "Data successfully saved to global_hp30.json\n"
     ]
    }
   ],
   "source": [
    "file = 'global_hp30.json'\n",
    "# Save the dictionary to a JSON file\n",
    "with open(file, 'w') as json_file:\n",
    "    json.dump(data_to_save, json_file, indent=4)\n",
    "\n",
    "print(f'Data successfully saved to {file}')"
   ]
  },
  {
   "cell_type": "code",
   "execution_count": 24,
   "metadata": {},
   "outputs": [
    {
     "name": "stdout",
     "output_type": "stream",
     "text": [
      "0.5\n"
     ]
    }
   ],
   "source": [
    "date = data_2004['datetime'][1]\n",
    "hours, minutes, _ = date.split('T')[1].split(':')\n",
    "print(int(hours)+int(minutes)/60)"
   ]
  },
  {
   "cell_type": "code",
   "execution_count": 27,
   "metadata": {},
   "outputs": [
    {
     "name": "stdout",
     "output_type": "stream",
     "text": [
      "[ True False False ... False False False]\n"
     ]
    }
   ],
   "source": [
    "print(np.array(data_2004['datetime']) == '2004-01-01T00:00:00Z')"
   ]
  },
  {
   "cell_type": "code",
   "execution_count": null,
   "metadata": {},
   "outputs": [],
   "source": []
  }
 ],
 "metadata": {
  "kernelspec": {
   "display_name": "Python 3",
   "language": "python",
   "name": "python3"
  },
  "language_info": {
   "codemirror_mode": {
    "name": "ipython",
    "version": 3
   },
   "file_extension": ".py",
   "mimetype": "text/x-python",
   "name": "python",
   "nbconvert_exporter": "python",
   "pygments_lexer": "ipython3",
   "version": "3.11.8"
  }
 },
 "nbformat": 4,
 "nbformat_minor": 2
}
