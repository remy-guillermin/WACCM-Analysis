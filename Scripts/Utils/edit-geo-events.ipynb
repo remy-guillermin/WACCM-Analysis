{
 "cells": [
  {
   "cell_type": "code",
   "execution_count": 3,
   "metadata": {},
   "outputs": [],
   "source": [
    "import numpy as np\n",
    "import pandas as pd"
   ]
  },
  {
   "cell_type": "code",
   "execution_count": 7,
   "metadata": {},
   "outputs": [],
   "source": [
    "file = 'global_data_4_0.5'\n",
    "file_split = np.array(file.split('_'))[-2:].astype(float)\n",
    "\n",
    "time_bin  = file_split[-1]\n",
    "H_bin  = file_split[-2]\n",
    "\n",
    "time_bins = np.arange(0,24,time_bin)\n",
    "H_bins = np.arange(90,130,H_bin)\n",
    "\n",
    "shape = len(time_bins) * len(H_bins)\n",
    "\n",
    "file_path = f'../../Output/{file}.csv'"
   ]
  },
  {
   "cell_type": "code",
   "execution_count": 8,
   "metadata": {},
   "outputs": [],
   "source": [
    "data_df = pd.read_csv(file_path)\n",
    "Date = np.array(data_df['Date'])\n",
    "Geomagnetic_Event = np.array(data_df['Geomagnetic Event'])\n",
    "\n",
    "events = [\"2004-02-11\", \n",
    "          \"2004-02-12\", \n",
    "          \"2004-03-09\",\n",
    "          \"2004-03-10\",\n",
    "          \"2004-03-11\",\n",
    "          \"2004-04-05\",\n",
    "          \"2004-04-06\",\n",
    "          \"2004-07-17\",\n",
    "          \"2008-03-09\",\n",
    "          \"2008-10-10\",\n",
    "          \"2011-01-07\",\n",
    "          \"2011-02-04\",\n",
    "          \"2011-02-05\",\n",
    "          \"2011-03-11\",\n",
    "          \"2011-03-12\",\n",
    "          \"2011-04-12\",\n",
    "          \"2011-05-28\",\n",
    "          \"2011-08-06\",\n",
    "          \"2011-08-07\",\n",
    "          \"2011-08-08\",\n",
    "          \"2011-09-17\",\n",
    "          \"2011-09-18\"]"
   ]
  },
  {
   "cell_type": "code",
   "execution_count": 9,
   "metadata": {},
   "outputs": [
    {
     "name": "stdout",
     "output_type": "stream",
     "text": [
      "2004-02-11 is in dataset\n",
      "2004-03-10 is in dataset\n",
      "2004-03-11 is in dataset\n",
      "2004-04-06 is in dataset\n",
      "2011-02-04 is in dataset\n",
      "2011-02-05 is in dataset\n",
      "2011-08-08 is in dataset\n"
     ]
    }
   ],
   "source": [
    "for event in events:\n",
    "    if Date.__contains__(event):\n",
    "        print(f'{event} is in dataset')\n",
    "        date_mask = Date == event\n",
    "        Geomagnetic_Event[date_mask] = 1\n",
    "\n",
    "data_df['Geomagnetic Event'] = Geomagnetic_Event\n",
    "data_df.to_csv(file_path, index=False)"
   ]
  },
  {
   "cell_type": "code",
   "execution_count": null,
   "metadata": {},
   "outputs": [],
   "source": []
  }
 ],
 "metadata": {
  "kernelspec": {
   "display_name": "Python 3",
   "language": "python",
   "name": "python3"
  },
  "language_info": {
   "codemirror_mode": {
    "name": "ipython",
    "version": 3
   },
   "file_extension": ".py",
   "mimetype": "text/x-python",
   "name": "python",
   "nbconvert_exporter": "python",
   "pygments_lexer": "ipython3",
   "version": "3.11.9"
  }
 },
 "nbformat": 4,
 "nbformat_minor": 2
}
