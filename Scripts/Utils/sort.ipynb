{
 "cells": [
  {
   "cell_type": "code",
   "execution_count": 1,
   "metadata": {},
   "outputs": [],
   "source": [
    "import os\n",
    "import shutil\n",
    "import glob"
   ]
  },
  {
   "cell_type": "code",
   "execution_count": 2,
   "metadata": {},
   "outputs": [],
   "source": [
    "def organize_files_by_date(directory):\n",
    "    # Get all .aad files in the directory\n",
    "    files = glob.glob(directory + \"*\")\n",
    "    \n",
    "    for file in files:\n",
    "        parts = file.split('_')\n",
    "        date = parts[1]\n",
    "        date_dir = os.path.join('../../DataSorted', date)\n",
    "\n",
    "        if not os.path.exists(date_dir):\n",
    "            os.makedirs(date_dir)\n",
    "            print(f\"Created directory: {date_dir}\")\n",
    "        \n",
    "        parts = file.split('/')\n",
    "\n",
    "        shutil.move(file, os.path.join(date_dir, parts[-1]))\n",
    "        print(f\"Moved {file} to {date_dir}\")"
   ]
  },
  {
   "cell_type": "code",
   "execution_count": 3,
   "metadata": {},
   "outputs": [],
   "source": [
    "directory = \"../../DataRaw/\"\n",
    "organize_files_by_date(directory)"
   ]
  }
 ],
 "metadata": {
  "kernelspec": {
   "display_name": "Python 3",
   "language": "python",
   "name": "python3"
  },
  "language_info": {
   "codemirror_mode": {
    "name": "ipython",
    "version": 3
   },
   "file_extension": ".py",
   "mimetype": "text/x-python",
   "name": "python",
   "nbconvert_exporter": "python",
   "pygments_lexer": "ipython3",
   "version": "3.11.8"
  }
 },
 "nbformat": 4,
 "nbformat_minor": 2
}
